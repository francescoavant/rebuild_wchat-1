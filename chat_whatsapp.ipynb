{
 "cells": [
  {
   "cell_type": "code",
   "execution_count": 18,
   "id": "f251c05b-567e-43e2-be15-9d2672b700e8",
   "metadata": {},
   "outputs": [],
   "source": [
    "import os\n",
    "import datetime\n",
    "from jinja2 import Template, Environment, FileSystemLoader\n",
    "from PIL import Image"
   ]
  },
  {
   "cell_type": "code",
   "execution_count": 19,
   "id": "b0e734bf-9b97-4356-aa42-d5543d0d311c",
   "metadata": {},
   "outputs": [],
   "source": [
    "file_path = \"chat.txt\"\n",
    "with open(file_path, mode='r', encoding=\"utf8\") as f:\n",
    "    data = f.readlines()"
   ]
  },
  {
   "cell_type": "code",
   "execution_count": 20,
   "id": "ea11426c-e94d-4ad9-b475-0f734621da73",
   "metadata": {},
   "outputs": [
    {
     "data": {
      "text/plain": [
       "'Jack'"
      ]
     },
     "execution_count": 20,
     "metadata": {},
     "output_type": "execute_result"
    }
   ],
   "source": [
    "#utente = input(\"Inserisci il received: \")\n",
    "user =data[0].split(\":\")[2].split(\"]\")[1][1:]\n",
    "user"
   ]
  },
  {
   "cell_type": "code",
   "execution_count": 21,
   "id": "9609d296-2028-498a-aa3c-a285f97aed9e",
   "metadata": {
    "tags": []
   },
   "outputs": [],
   "source": [
    "dataset = data [1:]\n",
    "cleaned_data = []\n",
    "lista = []\n",
    "\n",
    "for line in dataset:\n",
    "    # Check, whether it is a new line or not\n",
    "    # If the following characters are in the line -> assumption it is NOT a new line\n",
    "    if '/' in line and ':' in line and ',' in line and '[' in line:\n",
    "        # grab the info and cut it out\n",
    "        date = line.split(\"[\")[1].split(\",\")[0]\n",
    "        line2 = line[len(date):]\n",
    "        time = line2.split(\",\")[1].split(\"]\")[0]\n",
    "        line3 = line2[len(time):]\n",
    "        sender = line3.split(\"]\")[1].split(\":\")[0]\n",
    "        line4 = line3[len(sender):]\n",
    "        message = line4[5:-1]\n",
    "        message = message.replace(\" \\u200e\", \"\" ).replace(\"\\n\", \"\")\n",
    "        position = 'received'\n",
    "        if sender[1:] == user:\n",
    "            position = 'sent'\n",
    "        cleaned_data.append([position, date, time[1:], sender[1:], message])\n",
    "        lista.append(date)\n",
    "    # else, assumption -> new line. Append new line to previous 'message'\n",
    "    else:\n",
    "        new = cleaned_data[-1][-1] + \" \" + line\n",
    "        cleaned_data[-1][-1] = new"
   ]
  },
  {
   "cell_type": "code",
   "execution_count": 22,
   "id": "6584254a-455c-44c9-bf37-c230a5a265ce",
   "metadata": {},
   "outputs": [],
   "source": [
    "f.close()"
   ]
  },
  {
   "cell_type": "code",
   "execution_count": 23,
   "id": "1502418c-3b12-4998-be09-cc27824eddc4",
   "metadata": {},
   "outputs": [],
   "source": [
    "file_html_path = \"index_wa.html\"\n",
    "if os.path.exists(file_html_path):\n",
    "    os.remove(file_html_path) \n",
    "i = open(file_html_path, mode='x', encoding=\"utf8\")\n"
   ]
  },
  {
   "cell_type": "code",
   "execution_count": 24,
   "id": "d12a0ba3-ffd3-4145-a639-c934f1b91c0e",
   "metadata": {},
   "outputs": [],
   "source": [
    "file_loader = FileSystemLoader(\"templates\")\n",
    "env = Environment(loader=file_loader)\n",
    "start=env.get_template(\"start.txt\")\n",
    "end=env.get_template(\"end.txt\")\n",
    "day_template=env.get_template(\"day_template.txt\")\n",
    "message_template=env.get_template(\"message_template.txt\")\n",
    "media_template=env.get_template(\"media_template.txt\")"
   ]
  },
  {
   "cell_type": "code",
   "execution_count": 25,
   "id": "23223589-00bd-4754-b507-481f9abc82a0",
   "metadata": {},
   "outputs": [
    {
     "data": {
      "text/plain": [
       "1314"
      ]
     },
     "execution_count": 25,
     "metadata": {},
     "output_type": "execute_result"
    }
   ],
   "source": [
    "i.write(start.render(name=user))"
   ]
  },
  {
   "cell_type": "code",
   "execution_count": 26,
   "id": "990820da-1c42-4619-80c3-1a6087031040",
   "metadata": {},
   "outputs": [
    {
     "name": "stdout",
     "output_type": "stream",
     "text": [
      "1578 2048\n",
      "225 224\n"
     ]
    }
   ],
   "source": [
    "message_date = \"\"\n",
    "\n",
    "for m in cleaned_data:\n",
    "    mess = m[4]\n",
    "    \n",
    "    if m[1] != message_date:\n",
    "        message_date = m[1]\n",
    "        i.write((day_template.render(day=m[1])))\n",
    "    \n",
    "    #posizione conterrà l'inizio della stringa \"<allegato:\"\n",
    "    position = m[4].find(\"<allegato:\")\n",
    "    \n",
    "    if position>-1:\n",
    "        if(m[4].find(\".jpg\")>-1):\n",
    "            filename = m[4][position+11:len(m[4])-1]\n",
    "            with Image.open(filename) as image:\n",
    "                width, height = image.size\n",
    "            print(str(width) + \" \" + str(height))\n",
    "   \n",
    "            mess =  \"<a href=\" + m[4][position+11:len(m[4])-1]+ \" data-lightbox=\" + m[4][position+11:len(m[4])-1]+ \"  >\" + \"<img src=\\\"\"+m[4][position+11:len(m[4])-1]+\"\\\">\" +\"</a>\"\n",
    "   \n",
    "        elif(m[4].find(\".opus\") >-1 or m[4].find(\".mp3\") >-1):\n",
    "            mess = \"<audio controls><source src=\"+ m[4][position+11:len(m[4])-1] +  \" type='audio/ogg'>Your browser does not support the audio element.</audio>\"\n",
    "        else:\n",
    "            mess = \"<a href=\\\"\"+m[4][position+11:len(m[4])-1]+\"\\\">\"+m[4][position+11:len(m[4])-1]+\"</a>\"\n",
    "        i.write(media_template.render(type=m[0], message=mess,time=m[2][0:5]))\n",
    "        \n",
    "    else:\n",
    "        i.write(message_template.render(type=m[0], message=mess,time=m[2][0:5]))"
   ]
  },
  {
   "cell_type": "code",
   "execution_count": 27,
   "id": "39893c2b-7271-41e9-bea8-5985b3529b7a",
   "metadata": {},
   "outputs": [],
   "source": [
    "i.write(end.render())\n",
    "i.close()"
   ]
  },
  {
   "cell_type": "code",
   "execution_count": null,
   "id": "cec9cf44-bbc0-40a9-809e-89008c2d67f0",
   "metadata": {},
   "outputs": [],
   "source": []
  },
  {
   "cell_type": "code",
   "execution_count": null,
   "id": "1bdac921-8b05-4f00-8399-f0cc61a9f3fc",
   "metadata": {},
   "outputs": [],
   "source": []
  }
 ],
 "metadata": {
  "kernelspec": {
   "display_name": "Python 3 (ipykernel)",
   "language": "python",
   "name": "python3"
  },
  "language_info": {
   "codemirror_mode": {
    "name": "ipython",
    "version": 3
   },
   "file_extension": ".py",
   "mimetype": "text/x-python",
   "name": "python",
   "nbconvert_exporter": "python",
   "pygments_lexer": "ipython3",
   "version": "3.9.2"
  },
  "vscode": {
   "interpreter": {
    "hash": "a3c3e83938316896ed772bd5819a23b08ca42d6e69953228cc94db3132bec68e"
   }
  }
 },
 "nbformat": 4,
 "nbformat_minor": 5
}
